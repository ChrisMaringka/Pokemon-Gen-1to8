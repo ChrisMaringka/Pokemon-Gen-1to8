{
 "cells": [
  {
   "cell_type": "code",
   "execution_count": null,
   "id": "87fb5a5d",
   "metadata": {},
   "outputs": [],
   "source": [
    "## Importing library and reading the data"
   ]
  },
  {
   "cell_type": "code",
   "execution_count": 2,
   "id": "2ca43fa3",
   "metadata": {},
   "outputs": [],
   "source": [
    "import pandas as pd\n",
    "import sys\n",
    "import numpy as np\n",
    "import statsmodels.api as sm\n",
    "from statsmodels.formula.api import ols"
   ]
  },
  {
   "cell_type": "code",
   "execution_count": 3,
   "id": "3d0f452a",
   "metadata": {},
   "outputs": [
    {
     "name": "stdout",
     "output_type": "stream",
     "text": [
      "['C:\\\\Users\\\\info\\\\PycharmProjects\\\\JupyterProject', 'C:\\\\Users\\\\info\\\\anaconda3\\\\python39.zip', 'C:\\\\Users\\\\info\\\\anaconda3\\\\DLLs', 'C:\\\\Users\\\\info\\\\anaconda3\\\\lib', 'C:\\\\Users\\\\info\\\\anaconda3', '', 'C:\\\\Users\\\\info\\\\AppData\\\\Roaming\\\\Python\\\\Python39\\\\site-packages', 'C:\\\\Users\\\\info\\\\anaconda3\\\\lib\\\\site-packages', 'C:\\\\Users\\\\info\\\\anaconda3\\\\lib\\\\site-packages\\\\locket-0.2.1-py3.9.egg', 'C:\\\\Users\\\\info\\\\anaconda3\\\\lib\\\\site-packages\\\\win32', 'C:\\\\Users\\\\info\\\\anaconda3\\\\lib\\\\site-packages\\\\win32\\\\lib', 'C:\\\\Users\\\\info\\\\anaconda3\\\\lib\\\\site-packages\\\\Pythonwin', 'C:\\\\Users\\\\info\\\\anaconda3\\\\lib\\\\site-packages\\\\IPython\\\\extensions', 'C:\\\\Users\\\\info\\\\.ipython']\n"
     ]
    }
   ],
   "source": [
    "print(sys.path)"
   ]
  },
  {
   "cell_type": "code",
   "execution_count": 4,
   "id": "5ba9da26",
   "metadata": {},
   "outputs": [],
   "source": [
    "df = pd.read_csv('C:\\\\Users\\\\info\\\\PycharmProjects\\\\JupyterProject\\\\data\\\\Pokemon.csv')"
   ]
  },
  {
   "cell_type": "code",
   "execution_count": 5,
   "id": "862098b5",
   "metadata": {},
   "outputs": [
    {
     "name": "stdout",
     "output_type": "stream",
     "text": [
      "       #                   Name   Type 1  Type 2  Total  HP  Attack  Defense  \\\n",
      "0      1              Bulbasaur    Grass  Poison    318  45      49       49   \n",
      "1      2                Ivysaur    Grass  Poison    405  60      62       63   \n",
      "2      3               Venusaur    Grass  Poison    525  80      82       83   \n",
      "3      3  VenusaurMega Venusaur    Grass  Poison    625  80     100      123   \n",
      "4      4             Charmander     Fire     NaN    309  39      52       43   \n",
      "..   ...                    ...      ...     ...    ...  ..     ...      ...   \n",
      "795  719                Diancie     Rock   Fairy    600  50     100      150   \n",
      "796  719    DiancieMega Diancie     Rock   Fairy    700  50     160      110   \n",
      "797  720    HoopaHoopa Confined  Psychic   Ghost    600  80     110       60   \n",
      "798  720     HoopaHoopa Unbound  Psychic    Dark    680  80     160       60   \n",
      "799  721              Volcanion     Fire   Water    600  80     110      120   \n",
      "\n",
      "     Sp. Atk  Sp. Def  Speed  Generation  Legendary  \n",
      "0         65       65     45           1      False  \n",
      "1         80       80     60           1      False  \n",
      "2        100      100     80           1      False  \n",
      "3        122      120     80           1      False  \n",
      "4         60       50     65           1      False  \n",
      "..       ...      ...    ...         ...        ...  \n",
      "795      100      150     50           6       True  \n",
      "796      160      110    110           6       True  \n",
      "797      150      130     70           6       True  \n",
      "798      170      130     80           6       True  \n",
      "799      130       90     70           6       True  \n",
      "\n",
      "[800 rows x 13 columns]\n"
     ]
    }
   ],
   "source": [
    "print(df)"
   ]
  },
  {
   "cell_type": "code",
   "execution_count": null,
   "id": "53b2dd52",
   "metadata": {},
   "outputs": [],
   "source": [
    "## Conducting correlation analysis"
   ]
  },
  {
   "cell_type": "code",
   "execution_count": 30,
   "id": "1e05fbd5",
   "metadata": {},
   "outputs": [
    {
     "data": {
      "text/html": [
       "<style type=\"text/css\">\n",
       "#T_fa47c_row0_col0, #T_fa47c_row1_col1, #T_fa47c_row2_col2, #T_fa47c_row3_col3, #T_fa47c_row4_col4, #T_fa47c_row5_col5, #T_fa47c_row6_col6, #T_fa47c_row7_col7, #T_fa47c_row8_col8, #T_fa47c_row9_col9 {\n",
       "  background-color: #08306b;\n",
       "  color: #f1f1f1;\n",
       "}\n",
       "#T_fa47c_row0_col1, #T_fa47c_row6_col0 {\n",
       "  background-color: #e8f1fa;\n",
       "  color: #000000;\n",
       "}\n",
       "#T_fa47c_row0_col2 {\n",
       "  background-color: #eff6fc;\n",
       "  color: #000000;\n",
       "}\n",
       "#T_fa47c_row0_col3, #T_fa47c_row0_col5 {\n",
       "  background-color: #edf4fc;\n",
       "  color: #000000;\n",
       "}\n",
       "#T_fa47c_row0_col4, #T_fa47c_row0_col9, #T_fa47c_row2_col8, #T_fa47c_row5_col0 {\n",
       "  background-color: #e7f1fa;\n",
       "  color: #000000;\n",
       "}\n",
       "#T_fa47c_row0_col6 {\n",
       "  background-color: #ebf3fb;\n",
       "  color: #000000;\n",
       "}\n",
       "#T_fa47c_row0_col7 {\n",
       "  background-color: #f1f7fd;\n",
       "  color: #000000;\n",
       "}\n",
       "#T_fa47c_row0_col8, #T_fa47c_row8_col0 {\n",
       "  background-color: #083471;\n",
       "  color: #f1f1f1;\n",
       "}\n",
       "#T_fa47c_row1_col0 {\n",
       "  background-color: #e1edf8;\n",
       "  color: #000000;\n",
       "}\n",
       "#T_fa47c_row1_col2 {\n",
       "  background-color: #4b98ca;\n",
       "  color: #f1f1f1;\n",
       "}\n",
       "#T_fa47c_row1_col3 {\n",
       "  background-color: #2979b9;\n",
       "  color: #f1f1f1;\n",
       "}\n",
       "#T_fa47c_row1_col4 {\n",
       "  background-color: #4896c8;\n",
       "  color: #f1f1f1;\n",
       "}\n",
       "#T_fa47c_row1_col5, #T_fa47c_row5_col1 {\n",
       "  background-color: #2474b7;\n",
       "  color: #f1f1f1;\n",
       "}\n",
       "#T_fa47c_row1_col6 {\n",
       "  background-color: #2c7cba;\n",
       "  color: #f1f1f1;\n",
       "}\n",
       "#T_fa47c_row1_col7 {\n",
       "  background-color: #4f9bcb;\n",
       "  color: #f1f1f1;\n",
       "}\n",
       "#T_fa47c_row1_col8 {\n",
       "  background-color: #eaf2fb;\n",
       "  color: #000000;\n",
       "}\n",
       "#T_fa47c_row1_col9 {\n",
       "  background-color: #7cb7da;\n",
       "  color: #000000;\n",
       "}\n",
       "#T_fa47c_row2_col0 {\n",
       "  background-color: #e6f0f9;\n",
       "  color: #000000;\n",
       "}\n",
       "#T_fa47c_row2_col1 {\n",
       "  background-color: #4a98c9;\n",
       "  color: #f1f1f1;\n",
       "}\n",
       "#T_fa47c_row2_col3 {\n",
       "  background-color: #97c6df;\n",
       "  color: #000000;\n",
       "}\n",
       "#T_fa47c_row2_col4, #T_fa47c_row9_col2 {\n",
       "  background-color: #cadef0;\n",
       "  color: #000000;\n",
       "}\n",
       "#T_fa47c_row2_col5 {\n",
       "  background-color: #aacfe5;\n",
       "  color: #000000;\n",
       "}\n",
       "#T_fa47c_row2_col6 {\n",
       "  background-color: #a3cce3;\n",
       "  color: #000000;\n",
       "}\n",
       "#T_fa47c_row2_col7, #T_fa47c_row4_col2, #T_fa47c_row4_col5 {\n",
       "  background-color: #d1e2f3;\n",
       "  color: #000000;\n",
       "}\n",
       "#T_fa47c_row2_col9 {\n",
       "  background-color: #cee0f2;\n",
       "  color: #000000;\n",
       "}\n",
       "#T_fa47c_row3_col0 {\n",
       "  background-color: #e5eff9;\n",
       "  color: #000000;\n",
       "}\n",
       "#T_fa47c_row3_col1 {\n",
       "  background-color: #2777b8;\n",
       "  color: #f1f1f1;\n",
       "}\n",
       "#T_fa47c_row3_col2 {\n",
       "  background-color: #9ac8e0;\n",
       "  color: #000000;\n",
       "}\n",
       "#T_fa47c_row3_col4 {\n",
       "  background-color: #87bddc;\n",
       "  color: #000000;\n",
       "}\n",
       "#T_fa47c_row3_col5 {\n",
       "  background-color: #9fcae1;\n",
       "  color: #000000;\n",
       "}\n",
       "#T_fa47c_row3_col6 {\n",
       "  background-color: #c7dcef;\n",
       "  color: #000000;\n",
       "}\n",
       "#T_fa47c_row3_col7 {\n",
       "  background-color: #95c5df;\n",
       "  color: #000000;\n",
       "}\n",
       "#T_fa47c_row3_col8 {\n",
       "  background-color: #e9f2fa;\n",
       "  color: #000000;\n",
       "}\n",
       "#T_fa47c_row3_col9 {\n",
       "  background-color: #bad6eb;\n",
       "  color: #000000;\n",
       "}\n",
       "#T_fa47c_row4_col0 {\n",
       "  background-color: #e7f0fa;\n",
       "  color: #000000;\n",
       "}\n",
       "#T_fa47c_row4_col1 {\n",
       "  background-color: #4d99ca;\n",
       "  color: #f1f1f1;\n",
       "}\n",
       "#T_fa47c_row4_col3 {\n",
       "  background-color: #91c3de;\n",
       "  color: #000000;\n",
       "}\n",
       "#T_fa47c_row4_col6 {\n",
       "  background-color: #6caed6;\n",
       "  color: #f1f1f1;\n",
       "}\n",
       "#T_fa47c_row4_col7 {\n",
       "  background-color: #f0f6fd;\n",
       "  color: #000000;\n",
       "}\n",
       "#T_fa47c_row4_col8 {\n",
       "  background-color: #eaf3fb;\n",
       "  color: #000000;\n",
       "}\n",
       "#T_fa47c_row4_col9 {\n",
       "  background-color: #d3e4f3;\n",
       "  color: #000000;\n",
       "}\n",
       "#T_fa47c_row5_col2 {\n",
       "  background-color: #afd1e7;\n",
       "  color: #000000;\n",
       "}\n",
       "#T_fa47c_row5_col3 {\n",
       "  background-color: #a1cbe2;\n",
       "  color: #000000;\n",
       "}\n",
       "#T_fa47c_row5_col4 {\n",
       "  background-color: #cde0f1;\n",
       "  color: #000000;\n",
       "}\n",
       "#T_fa47c_row5_col6 {\n",
       "  background-color: #6fb0d7;\n",
       "  color: #f1f1f1;\n",
       "}\n",
       "#T_fa47c_row5_col7, #T_fa47c_row6_col5 {\n",
       "  background-color: #71b1d7;\n",
       "  color: #f1f1f1;\n",
       "}\n",
       "#T_fa47c_row5_col8 {\n",
       "  background-color: #ecf4fb;\n",
       "  color: #000000;\n",
       "}\n",
       "#T_fa47c_row5_col9 {\n",
       "  background-color: #94c4df;\n",
       "  color: #000000;\n",
       "}\n",
       "#T_fa47c_row6_col1 {\n",
       "  background-color: #2d7dbb;\n",
       "  color: #f1f1f1;\n",
       "}\n",
       "#T_fa47c_row6_col2, #T_fa47c_row9_col7 {\n",
       "  background-color: #a9cfe5;\n",
       "  color: #000000;\n",
       "}\n",
       "#T_fa47c_row6_col3 {\n",
       "  background-color: #cbdef1;\n",
       "  color: #000000;\n",
       "}\n",
       "#T_fa47c_row6_col4 {\n",
       "  background-color: #6aaed6;\n",
       "  color: #f1f1f1;\n",
       "}\n",
       "#T_fa47c_row6_col7 {\n",
       "  background-color: #bed8ec;\n",
       "  color: #000000;\n",
       "}\n",
       "#T_fa47c_row6_col8 {\n",
       "  background-color: #eef5fc;\n",
       "  color: #000000;\n",
       "}\n",
       "#T_fa47c_row6_col9, #T_fa47c_row9_col3 {\n",
       "  background-color: #b3d3e8;\n",
       "  color: #000000;\n",
       "}\n",
       "#T_fa47c_row7_col0, #T_fa47c_row7_col4, #T_fa47c_row7_col8, #T_fa47c_row8_col1, #T_fa47c_row8_col2, #T_fa47c_row8_col3, #T_fa47c_row8_col5, #T_fa47c_row8_col6, #T_fa47c_row8_col7, #T_fa47c_row8_col9 {\n",
       "  background-color: #f7fbff;\n",
       "  color: #000000;\n",
       "}\n",
       "#T_fa47c_row7_col1 {\n",
       "  background-color: #5aa2cf;\n",
       "  color: #f1f1f1;\n",
       "}\n",
       "#T_fa47c_row7_col2 {\n",
       "  background-color: #dfebf7;\n",
       "  color: #000000;\n",
       "}\n",
       "#T_fa47c_row7_col3 {\n",
       "  background-color: #a6cee4;\n",
       "  color: #000000;\n",
       "}\n",
       "#T_fa47c_row7_col5 {\n",
       "  background-color: #7fb9da;\n",
       "  color: #000000;\n",
       "}\n",
       "#T_fa47c_row7_col6, #T_fa47c_row9_col4 {\n",
       "  background-color: #c9ddf0;\n",
       "  color: #000000;\n",
       "}\n",
       "#T_fa47c_row7_col9 {\n",
       "  background-color: #c1d9ed;\n",
       "  color: #000000;\n",
       "}\n",
       "#T_fa47c_row8_col4 {\n",
       "  background-color: #f2f7fd;\n",
       "  color: #000000;\n",
       "}\n",
       "#T_fa47c_row9_col0 {\n",
       "  background-color: #dbe9f6;\n",
       "  color: #000000;\n",
       "}\n",
       "#T_fa47c_row9_col1 {\n",
       "  background-color: #75b4d8;\n",
       "  color: #000000;\n",
       "}\n",
       "#T_fa47c_row9_col5 {\n",
       "  background-color: #89bedc;\n",
       "  color: #000000;\n",
       "}\n",
       "#T_fa47c_row9_col6 {\n",
       "  background-color: #a8cee4;\n",
       "  color: #000000;\n",
       "}\n",
       "#T_fa47c_row9_col8 {\n",
       "  background-color: #e3eef9;\n",
       "  color: #000000;\n",
       "}\n",
       "</style>\n",
       "<table id=\"T_fa47c_\">\n",
       "  <thead>\n",
       "    <tr>\n",
       "      <th class=\"blank level0\" >&nbsp;</th>\n",
       "      <th class=\"col_heading level0 col0\" >#</th>\n",
       "      <th class=\"col_heading level0 col1\" >Total</th>\n",
       "      <th class=\"col_heading level0 col2\" >HP</th>\n",
       "      <th class=\"col_heading level0 col3\" >Attack</th>\n",
       "      <th class=\"col_heading level0 col4\" >Defense</th>\n",
       "      <th class=\"col_heading level0 col5\" >Sp. Atk</th>\n",
       "      <th class=\"col_heading level0 col6\" >Sp. Def</th>\n",
       "      <th class=\"col_heading level0 col7\" >Speed</th>\n",
       "      <th class=\"col_heading level0 col8\" >Generation</th>\n",
       "      <th class=\"col_heading level0 col9\" >Legendary</th>\n",
       "    </tr>\n",
       "  </thead>\n",
       "  <tbody>\n",
       "    <tr>\n",
       "      <th id=\"T_fa47c_level0_row0\" class=\"row_heading level0 row0\" >#</th>\n",
       "      <td id=\"T_fa47c_row0_col0\" class=\"data row0 col0\" >1.000000</td>\n",
       "      <td id=\"T_fa47c_row0_col1\" class=\"data row0 col1\" >0.119813</td>\n",
       "      <td id=\"T_fa47c_row0_col2\" class=\"data row0 col2\" >0.097614</td>\n",
       "      <td id=\"T_fa47c_row0_col3\" class=\"data row0 col3\" >0.102298</td>\n",
       "      <td id=\"T_fa47c_row0_col4\" class=\"data row0 col4\" >0.094786</td>\n",
       "      <td id=\"T_fa47c_row0_col5\" class=\"data row0 col5\" >0.088759</td>\n",
       "      <td id=\"T_fa47c_row0_col6\" class=\"data row0 col6\" >0.085817</td>\n",
       "      <td id=\"T_fa47c_row0_col7\" class=\"data row0 col7\" >0.010733</td>\n",
       "      <td id=\"T_fa47c_row0_col8\" class=\"data row0 col8\" >0.982516</td>\n",
       "      <td id=\"T_fa47c_row0_col9\" class=\"data row0 col9\" >0.153396</td>\n",
       "    </tr>\n",
       "    <tr>\n",
       "      <th id=\"T_fa47c_level0_row1\" class=\"row_heading level0 row1\" >Total</th>\n",
       "      <td id=\"T_fa47c_row1_col0\" class=\"data row1 col0\" >0.119813</td>\n",
       "      <td id=\"T_fa47c_row1_col1\" class=\"data row1 col1\" >1.000000</td>\n",
       "      <td id=\"T_fa47c_row1_col2\" class=\"data row1 col2\" >0.618748</td>\n",
       "      <td id=\"T_fa47c_row1_col3\" class=\"data row1 col3\" >0.736211</td>\n",
       "      <td id=\"T_fa47c_row1_col4\" class=\"data row1 col4\" >0.612787</td>\n",
       "      <td id=\"T_fa47c_row1_col5\" class=\"data row1 col5\" >0.747250</td>\n",
       "      <td id=\"T_fa47c_row1_col6\" class=\"data row1 col6\" >0.717609</td>\n",
       "      <td id=\"T_fa47c_row1_col7\" class=\"data row1 col7\" >0.575943</td>\n",
       "      <td id=\"T_fa47c_row1_col8\" class=\"data row1 col8\" >0.048384</td>\n",
       "      <td id=\"T_fa47c_row1_col9\" class=\"data row1 col9\" >0.501758</td>\n",
       "    </tr>\n",
       "    <tr>\n",
       "      <th id=\"T_fa47c_level0_row2\" class=\"row_heading level0 row2\" >HP</th>\n",
       "      <td id=\"T_fa47c_row2_col0\" class=\"data row2 col0\" >0.097614</td>\n",
       "      <td id=\"T_fa47c_row2_col1\" class=\"data row2 col1\" >0.618748</td>\n",
       "      <td id=\"T_fa47c_row2_col2\" class=\"data row2 col2\" >1.000000</td>\n",
       "      <td id=\"T_fa47c_row2_col3\" class=\"data row2 col3\" >0.422386</td>\n",
       "      <td id=\"T_fa47c_row2_col4\" class=\"data row2 col4\" >0.239622</td>\n",
       "      <td id=\"T_fa47c_row2_col5\" class=\"data row2 col5\" >0.362380</td>\n",
       "      <td id=\"T_fa47c_row2_col6\" class=\"data row2 col6\" >0.378718</td>\n",
       "      <td id=\"T_fa47c_row2_col7\" class=\"data row2 col7\" >0.175952</td>\n",
       "      <td id=\"T_fa47c_row2_col8\" class=\"data row2 col8\" >0.058683</td>\n",
       "      <td id=\"T_fa47c_row2_col9\" class=\"data row2 col9\" >0.273620</td>\n",
       "    </tr>\n",
       "    <tr>\n",
       "      <th id=\"T_fa47c_level0_row3\" class=\"row_heading level0 row3\" >Attack</th>\n",
       "      <td id=\"T_fa47c_row3_col0\" class=\"data row3 col0\" >0.102298</td>\n",
       "      <td id=\"T_fa47c_row3_col1\" class=\"data row3 col1\" >0.736211</td>\n",
       "      <td id=\"T_fa47c_row3_col2\" class=\"data row3 col2\" >0.422386</td>\n",
       "      <td id=\"T_fa47c_row3_col3\" class=\"data row3 col3\" >1.000000</td>\n",
       "      <td id=\"T_fa47c_row3_col4\" class=\"data row3 col4\" >0.438687</td>\n",
       "      <td id=\"T_fa47c_row3_col5\" class=\"data row3 col5\" >0.396362</td>\n",
       "      <td id=\"T_fa47c_row3_col6\" class=\"data row3 col6\" >0.263990</td>\n",
       "      <td id=\"T_fa47c_row3_col7\" class=\"data row3 col7\" >0.381240</td>\n",
       "      <td id=\"T_fa47c_row3_col8\" class=\"data row3 col8\" >0.051451</td>\n",
       "      <td id=\"T_fa47c_row3_col9\" class=\"data row3 col9\" >0.345408</td>\n",
       "    </tr>\n",
       "    <tr>\n",
       "      <th id=\"T_fa47c_level0_row4\" class=\"row_heading level0 row4\" >Defense</th>\n",
       "      <td id=\"T_fa47c_row4_col0\" class=\"data row4 col0\" >0.094786</td>\n",
       "      <td id=\"T_fa47c_row4_col1\" class=\"data row4 col1\" >0.612787</td>\n",
       "      <td id=\"T_fa47c_row4_col2\" class=\"data row4 col2\" >0.239622</td>\n",
       "      <td id=\"T_fa47c_row4_col3\" class=\"data row4 col3\" >0.438687</td>\n",
       "      <td id=\"T_fa47c_row4_col4\" class=\"data row4 col4\" >1.000000</td>\n",
       "      <td id=\"T_fa47c_row4_col5\" class=\"data row4 col5\" >0.223549</td>\n",
       "      <td id=\"T_fa47c_row4_col6\" class=\"data row4 col6\" >0.510747</td>\n",
       "      <td id=\"T_fa47c_row4_col7\" class=\"data row4 col7\" >0.015227</td>\n",
       "      <td id=\"T_fa47c_row4_col8\" class=\"data row4 col8\" >0.042419</td>\n",
       "      <td id=\"T_fa47c_row4_col9\" class=\"data row4 col9\" >0.246377</td>\n",
       "    </tr>\n",
       "    <tr>\n",
       "      <th id=\"T_fa47c_level0_row5\" class=\"row_heading level0 row5\" >Sp. Atk</th>\n",
       "      <td id=\"T_fa47c_row5_col0\" class=\"data row5 col0\" >0.088759</td>\n",
       "      <td id=\"T_fa47c_row5_col1\" class=\"data row5 col1\" >0.747250</td>\n",
       "      <td id=\"T_fa47c_row5_col2\" class=\"data row5 col2\" >0.362380</td>\n",
       "      <td id=\"T_fa47c_row5_col3\" class=\"data row5 col3\" >0.396362</td>\n",
       "      <td id=\"T_fa47c_row5_col4\" class=\"data row5 col4\" >0.223549</td>\n",
       "      <td id=\"T_fa47c_row5_col5\" class=\"data row5 col5\" >1.000000</td>\n",
       "      <td id=\"T_fa47c_row5_col6\" class=\"data row5 col6\" >0.506121</td>\n",
       "      <td id=\"T_fa47c_row5_col7\" class=\"data row5 col7\" >0.473018</td>\n",
       "      <td id=\"T_fa47c_row5_col8\" class=\"data row5 col8\" >0.036437</td>\n",
       "      <td id=\"T_fa47c_row5_col9\" class=\"data row5 col9\" >0.448907</td>\n",
       "    </tr>\n",
       "    <tr>\n",
       "      <th id=\"T_fa47c_level0_row6\" class=\"row_heading level0 row6\" >Sp. Def</th>\n",
       "      <td id=\"T_fa47c_row6_col0\" class=\"data row6 col0\" >0.085817</td>\n",
       "      <td id=\"T_fa47c_row6_col1\" class=\"data row6 col1\" >0.717609</td>\n",
       "      <td id=\"T_fa47c_row6_col2\" class=\"data row6 col2\" >0.378718</td>\n",
       "      <td id=\"T_fa47c_row6_col3\" class=\"data row6 col3\" >0.263990</td>\n",
       "      <td id=\"T_fa47c_row6_col4\" class=\"data row6 col4\" >0.510747</td>\n",
       "      <td id=\"T_fa47c_row6_col5\" class=\"data row6 col5\" >0.506121</td>\n",
       "      <td id=\"T_fa47c_row6_col6\" class=\"data row6 col6\" >1.000000</td>\n",
       "      <td id=\"T_fa47c_row6_col7\" class=\"data row6 col7\" >0.259133</td>\n",
       "      <td id=\"T_fa47c_row6_col8\" class=\"data row6 col8\" >0.028486</td>\n",
       "      <td id=\"T_fa47c_row6_col9\" class=\"data row6 col9\" >0.363937</td>\n",
       "    </tr>\n",
       "    <tr>\n",
       "      <th id=\"T_fa47c_level0_row7\" class=\"row_heading level0 row7\" >Speed</th>\n",
       "      <td id=\"T_fa47c_row7_col0\" class=\"data row7 col0\" >0.010733</td>\n",
       "      <td id=\"T_fa47c_row7_col1\" class=\"data row7 col1\" >0.575943</td>\n",
       "      <td id=\"T_fa47c_row7_col2\" class=\"data row7 col2\" >0.175952</td>\n",
       "      <td id=\"T_fa47c_row7_col3\" class=\"data row7 col3\" >0.381240</td>\n",
       "      <td id=\"T_fa47c_row7_col4\" class=\"data row7 col4\" >0.015227</td>\n",
       "      <td id=\"T_fa47c_row7_col5\" class=\"data row7 col5\" >0.473018</td>\n",
       "      <td id=\"T_fa47c_row7_col6\" class=\"data row7 col6\" >0.259133</td>\n",
       "      <td id=\"T_fa47c_row7_col7\" class=\"data row7 col7\" >1.000000</td>\n",
       "      <td id=\"T_fa47c_row7_col8\" class=\"data row7 col8\" >-0.023121</td>\n",
       "      <td id=\"T_fa47c_row7_col9\" class=\"data row7 col9\" >0.326715</td>\n",
       "    </tr>\n",
       "    <tr>\n",
       "      <th id=\"T_fa47c_level0_row8\" class=\"row_heading level0 row8\" >Generation</th>\n",
       "      <td id=\"T_fa47c_row8_col0\" class=\"data row8 col0\" >0.982516</td>\n",
       "      <td id=\"T_fa47c_row8_col1\" class=\"data row8 col1\" >0.048384</td>\n",
       "      <td id=\"T_fa47c_row8_col2\" class=\"data row8 col2\" >0.058683</td>\n",
       "      <td id=\"T_fa47c_row8_col3\" class=\"data row8 col3\" >0.051451</td>\n",
       "      <td id=\"T_fa47c_row8_col4\" class=\"data row8 col4\" >0.042419</td>\n",
       "      <td id=\"T_fa47c_row8_col5\" class=\"data row8 col5\" >0.036437</td>\n",
       "      <td id=\"T_fa47c_row8_col6\" class=\"data row8 col6\" >0.028486</td>\n",
       "      <td id=\"T_fa47c_row8_col7\" class=\"data row8 col7\" >-0.023121</td>\n",
       "      <td id=\"T_fa47c_row8_col8\" class=\"data row8 col8\" >1.000000</td>\n",
       "      <td id=\"T_fa47c_row8_col9\" class=\"data row8 col9\" >0.079794</td>\n",
       "    </tr>\n",
       "    <tr>\n",
       "      <th id=\"T_fa47c_level0_row9\" class=\"row_heading level0 row9\" >Legendary</th>\n",
       "      <td id=\"T_fa47c_row9_col0\" class=\"data row9 col0\" >0.153396</td>\n",
       "      <td id=\"T_fa47c_row9_col1\" class=\"data row9 col1\" >0.501758</td>\n",
       "      <td id=\"T_fa47c_row9_col2\" class=\"data row9 col2\" >0.273620</td>\n",
       "      <td id=\"T_fa47c_row9_col3\" class=\"data row9 col3\" >0.345408</td>\n",
       "      <td id=\"T_fa47c_row9_col4\" class=\"data row9 col4\" >0.246377</td>\n",
       "      <td id=\"T_fa47c_row9_col5\" class=\"data row9 col5\" >0.448907</td>\n",
       "      <td id=\"T_fa47c_row9_col6\" class=\"data row9 col6\" >0.363937</td>\n",
       "      <td id=\"T_fa47c_row9_col7\" class=\"data row9 col7\" >0.326715</td>\n",
       "      <td id=\"T_fa47c_row9_col8\" class=\"data row9 col8\" >0.079794</td>\n",
       "      <td id=\"T_fa47c_row9_col9\" class=\"data row9 col9\" >1.000000</td>\n",
       "    </tr>\n",
       "  </tbody>\n",
       "</table>\n"
      ],
      "text/plain": [
       "<pandas.io.formats.style.Styler at 0x1dbfb6df790>"
      ]
     },
     "execution_count": 30,
     "metadata": {},
     "output_type": "execute_result"
    }
   ],
   "source": [
    "df.corr(method='pearson', min_periods=1).style.background_gradient(cmap=\"Blues\")"
   ]
  },
  {
   "cell_type": "code",
   "execution_count": 31,
   "id": "2ea1b27d",
   "metadata": {},
   "outputs": [
    {
     "data": {
      "text/plain": [
       "#              int64\n",
       "Name          object\n",
       "Type 1        object\n",
       "Type 2        object\n",
       "Total          int64\n",
       "HP             int64\n",
       "Attack         int64\n",
       "Defense        int64\n",
       "Sp. Atk        int64\n",
       "Sp. Def        int64\n",
       "Speed          int64\n",
       "Generation     int64\n",
       "Legendary       bool\n",
       "dtype: object"
      ]
     },
     "execution_count": 31,
     "metadata": {},
     "output_type": "execute_result"
    }
   ],
   "source": [
    "df.dtypes"
   ]
  },
  {
   "cell_type": "code",
   "execution_count": 32,
   "id": "0968288b",
   "metadata": {
    "scrolled": false
   },
   "outputs": [
    {
     "name": "stdout",
     "output_type": "stream",
     "text": [
      "Requirement already satisfied: statsmodels in c:\\users\\info\\anaconda3\\lib\\site-packages (0.12.2)\n",
      "Requirement already satisfied: numpy>=1.15 in c:\\users\\info\\anaconda3\\lib\\site-packages (from statsmodels) (1.20.3)\n",
      "Requirement already satisfied: scipy>=1.1 in c:\\users\\info\\anaconda3\\lib\\site-packages (from statsmodels) (1.7.3)\n",
      "Requirement already satisfied: pandas>=0.21 in c:\\users\\info\\anaconda3\\lib\\site-packages (from statsmodels) (1.3.5)\n",
      "Requirement already satisfied: patsy>=0.5 in c:\\users\\info\\anaconda3\\lib\\site-packages (from statsmodels) (0.5.2)\n",
      "Requirement already satisfied: python-dateutil>=2.7.3 in c:\\users\\info\\anaconda3\\lib\\site-packages (from pandas>=0.21->statsmodels) (2.8.2)\n",
      "Requirement already satisfied: pytz>=2017.3 in c:\\users\\info\\anaconda3\\lib\\site-packages (from pandas>=0.21->statsmodels) (2021.3)\n",
      "Requirement already satisfied: six in c:\\users\\info\\anaconda3\\lib\\site-packages (from patsy>=0.5->statsmodels) (1.16.0)\n",
      "Note: you may need to restart the kernel to use updated packages.\n"
     ]
    }
   ],
   "source": [
    "pip install statsmodels"
   ]
  },
  {
   "cell_type": "code",
   "execution_count": 33,
   "id": "9555c0a6",
   "metadata": {
    "scrolled": true
   },
   "outputs": [
    {
     "name": "stdout",
     "output_type": "stream",
     "text": [
      "Requirement already satisfied: chart-studio in c:\\users\\info\\anaconda3\\lib\\site-packages (1.1.0)\n",
      "Requirement already satisfied: requests in c:\\users\\info\\anaconda3\\lib\\site-packages (from chart-studio) (2.27.1)\n",
      "Requirement already satisfied: plotly in c:\\users\\info\\anaconda3\\lib\\site-packages (from chart-studio) (5.5.0)\n",
      "Requirement already satisfied: six in c:\\users\\info\\anaconda3\\lib\\site-packages (from chart-studio) (1.16.0)\n",
      "Requirement already satisfied: retrying>=1.3.3 in c:\\users\\info\\anaconda3\\lib\\site-packages (from chart-studio) (1.3.3)\n",
      "Requirement already satisfied: tenacity>=6.2.0 in c:\\users\\info\\anaconda3\\lib\\site-packages (from plotly->chart-studio) (8.0.1)\n",
      "Requirement already satisfied: urllib3<1.27,>=1.21.1 in c:\\users\\info\\anaconda3\\lib\\site-packages (from requests->chart-studio) (1.26.8)\n",
      "Requirement already satisfied: idna<4,>=2.5 in c:\\users\\info\\anaconda3\\lib\\site-packages (from requests->chart-studio) (3.3)\n",
      "Requirement already satisfied: charset-normalizer~=2.0.0 in c:\\users\\info\\anaconda3\\lib\\site-packages (from requests->chart-studio) (2.0.4)\n",
      "Requirement already satisfied: certifi>=2017.4.17 in c:\\users\\info\\anaconda3\\lib\\site-packages (from requests->chart-studio) (2021.10.8)\n",
      "Note: you may need to restart the kernel to use updated packages.\n"
     ]
    }
   ],
   "source": [
    "pip install chart-studio"
   ]
  },
  {
   "cell_type": "code",
   "execution_count": null,
   "id": "a904c05a",
   "metadata": {},
   "outputs": [],
   "source": [
    "## Checking data skewness by generation"
   ]
  },
  {
   "cell_type": "code",
   "execution_count": 35,
   "id": "876c650f",
   "metadata": {},
   "outputs": [
    {
     "data": {
      "text/plain": [
       "1    0.20750\n",
       "5    0.20625\n",
       "3    0.20000\n",
       "4    0.15125\n",
       "2    0.13250\n",
       "6    0.10250\n",
       "Name: Generation, dtype: float64"
      ]
     },
     "execution_count": 35,
     "metadata": {},
     "output_type": "execute_result"
    }
   ],
   "source": [
    "df[\"Generation\"].value_counts(normalize=True)"
   ]
  },
  {
   "cell_type": "code",
   "execution_count": 36,
   "id": "c26cf888",
   "metadata": {},
   "outputs": [
    {
     "data": {
      "text/plain": [
       "0      1\n",
       "1      1\n",
       "2      1\n",
       "3      1\n",
       "4      1\n",
       "      ..\n",
       "795    6\n",
       "796    6\n",
       "797    6\n",
       "798    6\n",
       "799    6\n",
       "Name: Generation, Length: 800, dtype: object"
      ]
     },
     "execution_count": 36,
     "metadata": {},
     "output_type": "execute_result"
    }
   ],
   "source": [
    "df[\"Generation\"].astype(\"object\")"
   ]
  },
  {
   "cell_type": "code",
   "execution_count": null,
   "id": "91b3e8ae",
   "metadata": {},
   "outputs": [],
   "source": [
    "## Creating boxplot"
   ]
  },
  {
   "cell_type": "code",
   "execution_count": 37,
   "id": "7ab179f6",
   "metadata": {},
   "outputs": [
    {
     "data": {
      "text/plain": [
       "<AxesSubplot:title={'center':'Total'}, xlabel='Generation'>"
      ]
     },
     "execution_count": 37,
     "metadata": {},
     "output_type": "execute_result"
    },
    {
     "data": {
      "image/png": "[encoded data removed]",
      "text/plain": [
       "<Figure size 432x288 with 1 Axes>"
      ]
     },
     "metadata": {
      "needs_background": "light"
     },
     "output_type": "display_data"
    }
   ],
   "source": [
    "df.boxplot('Total', by='Generation')"
   ]
  },
  {
   "cell_type": "code",
   "execution_count": 38,
   "id": "e5f15a14",
   "metadata": {
    "scrolled": false
   },
   "outputs": [
    {
     "data": {
      "text/html": [
       "<div>\n",
       "<style scoped>\n",
       "    .dataframe tbody tr th:only-of-type {\n",
       "        vertical-align: middle;\n",
       "    }\n",
       "\n",
       "    .dataframe tbody tr th {\n",
       "        vertical-align: top;\n",
       "    }\n",
       "\n",
       "    .dataframe thead th {\n",
       "        text-align: right;\n",
       "    }\n",
       "</style>\n",
       "<table border=\"1\" class=\"dataframe\">\n",
       "  <thead>\n",
       "    <tr style=\"text-align: right;\">\n",
       "      <th></th>\n",
       "      <th>#</th>\n",
       "      <th>Name</th>\n",
       "      <th>Type 1</th>\n",
       "      <th>Type 2</th>\n",
       "      <th>Total</th>\n",
       "      <th>HP</th>\n",
       "      <th>Attack</th>\n",
       "      <th>Defense</th>\n",
       "      <th>Sp. Atk</th>\n",
       "      <th>Sp. Def</th>\n",
       "      <th>Speed</th>\n",
       "      <th>Generation</th>\n",
       "      <th>Legendary</th>\n",
       "    </tr>\n",
       "  </thead>\n",
       "  <tbody>\n",
       "    <tr>\n",
       "      <th>422</th>\n",
       "      <td>382</td>\n",
       "      <td>KyogrePrimal Kyogre</td>\n",
       "      <td>Water</td>\n",
       "      <td>NaN</td>\n",
       "      <td>770</td>\n",
       "      <td>100</td>\n",
       "      <td>150</td>\n",
       "      <td>90</td>\n",
       "      <td>180</td>\n",
       "      <td>160</td>\n",
       "      <td>90</td>\n",
       "      <td>3</td>\n",
       "      <td>True</td>\n",
       "    </tr>\n",
       "    <tr>\n",
       "      <th>424</th>\n",
       "      <td>383</td>\n",
       "      <td>GroudonPrimal Groudon</td>\n",
       "      <td>Ground</td>\n",
       "      <td>Fire</td>\n",
       "      <td>770</td>\n",
       "      <td>100</td>\n",
       "      <td>180</td>\n",
       "      <td>160</td>\n",
       "      <td>150</td>\n",
       "      <td>90</td>\n",
       "      <td>90</td>\n",
       "      <td>3</td>\n",
       "      <td>True</td>\n",
       "    </tr>\n",
       "    <tr>\n",
       "      <th>426</th>\n",
       "      <td>384</td>\n",
       "      <td>RayquazaMega Rayquaza</td>\n",
       "      <td>Dragon</td>\n",
       "      <td>Flying</td>\n",
       "      <td>780</td>\n",
       "      <td>105</td>\n",
       "      <td>180</td>\n",
       "      <td>100</td>\n",
       "      <td>180</td>\n",
       "      <td>100</td>\n",
       "      <td>115</td>\n",
       "      <td>3</td>\n",
       "      <td>True</td>\n",
       "    </tr>\n",
       "  </tbody>\n",
       "</table>\n",
       "</div>"
      ],
      "text/plain": [
       "       #                   Name  Type 1  Type 2  Total   HP  Attack  Defense  \\\n",
       "422  382    KyogrePrimal Kyogre   Water     NaN    770  100     150       90   \n",
       "424  383  GroudonPrimal Groudon  Ground    Fire    770  100     180      160   \n",
       "426  384  RayquazaMega Rayquaza  Dragon  Flying    780  105     180      100   \n",
       "\n",
       "     Sp. Atk  Sp. Def  Speed  Generation  Legendary  \n",
       "422      180      160     90           3       True  \n",
       "424      150       90     90           3       True  \n",
       "426      180      100    115           3       True  "
      ]
     },
     "execution_count": 38,
     "metadata": {},
     "output_type": "execute_result"
    }
   ],
   "source": [
    "df.loc[(df['Generation'] == 3) & (df['Total'] > 700)]"
   ]
  },
  {
   "cell_type": "code",
   "execution_count": 39,
   "id": "d993cb76",
   "metadata": {},
   "outputs": [
    {
     "data": {
      "text/html": [
       "<div>\n",
       "<style scoped>\n",
       "    .dataframe tbody tr th:only-of-type {\n",
       "        vertical-align: middle;\n",
       "    }\n",
       "\n",
       "    .dataframe tbody tr th {\n",
       "        vertical-align: top;\n",
       "    }\n",
       "\n",
       "    .dataframe thead th {\n",
       "        text-align: right;\n",
       "    }\n",
       "</style>\n",
       "<table border=\"1\" class=\"dataframe\">\n",
       "  <thead>\n",
       "    <tr style=\"text-align: right;\">\n",
       "      <th></th>\n",
       "      <th>#</th>\n",
       "      <th>Name</th>\n",
       "      <th>Type 1</th>\n",
       "      <th>Type 2</th>\n",
       "      <th>Total</th>\n",
       "      <th>HP</th>\n",
       "      <th>Attack</th>\n",
       "      <th>Defense</th>\n",
       "      <th>Sp. Atk</th>\n",
       "      <th>Sp. Def</th>\n",
       "      <th>Speed</th>\n",
       "      <th>Generation</th>\n",
       "      <th>Legendary</th>\n",
       "      <th>Gen Str</th>\n",
       "    </tr>\n",
       "  </thead>\n",
       "  <tbody>\n",
       "    <tr>\n",
       "      <th>0</th>\n",
       "      <td>1</td>\n",
       "      <td>Bulbasaur</td>\n",
       "      <td>Grass</td>\n",
       "      <td>Poison</td>\n",
       "      <td>318</td>\n",
       "      <td>45</td>\n",
       "      <td>49</td>\n",
       "      <td>49</td>\n",
       "      <td>65</td>\n",
       "      <td>65</td>\n",
       "      <td>45</td>\n",
       "      <td>1</td>\n",
       "      <td>False</td>\n",
       "      <td>1</td>\n",
       "    </tr>\n",
       "    <tr>\n",
       "      <th>1</th>\n",
       "      <td>2</td>\n",
       "      <td>Ivysaur</td>\n",
       "      <td>Grass</td>\n",
       "      <td>Poison</td>\n",
       "      <td>405</td>\n",
       "      <td>60</td>\n",
       "      <td>62</td>\n",
       "      <td>63</td>\n",
       "      <td>80</td>\n",
       "      <td>80</td>\n",
       "      <td>60</td>\n",
       "      <td>1</td>\n",
       "      <td>False</td>\n",
       "      <td>1</td>\n",
       "    </tr>\n",
       "    <tr>\n",
       "      <th>2</th>\n",
       "      <td>3</td>\n",
       "      <td>Venusaur</td>\n",
       "      <td>Grass</td>\n",
       "      <td>Poison</td>\n",
       "      <td>525</td>\n",
       "      <td>80</td>\n",
       "      <td>82</td>\n",
       "      <td>83</td>\n",
       "      <td>100</td>\n",
       "      <td>100</td>\n",
       "      <td>80</td>\n",
       "      <td>1</td>\n",
       "      <td>False</td>\n",
       "      <td>1</td>\n",
       "    </tr>\n",
       "    <tr>\n",
       "      <th>3</th>\n",
       "      <td>3</td>\n",
       "      <td>VenusaurMega Venusaur</td>\n",
       "      <td>Grass</td>\n",
       "      <td>Poison</td>\n",
       "      <td>625</td>\n",
       "      <td>80</td>\n",
       "      <td>100</td>\n",
       "      <td>123</td>\n",
       "      <td>122</td>\n",
       "      <td>120</td>\n",
       "      <td>80</td>\n",
       "      <td>1</td>\n",
       "      <td>False</td>\n",
       "      <td>1</td>\n",
       "    </tr>\n",
       "    <tr>\n",
       "      <th>4</th>\n",
       "      <td>4</td>\n",
       "      <td>Charmander</td>\n",
       "      <td>Fire</td>\n",
       "      <td>NaN</td>\n",
       "      <td>309</td>\n",
       "      <td>39</td>\n",
       "      <td>52</td>\n",
       "      <td>43</td>\n",
       "      <td>60</td>\n",
       "      <td>50</td>\n",
       "      <td>65</td>\n",
       "      <td>1</td>\n",
       "      <td>False</td>\n",
       "      <td>1</td>\n",
       "    </tr>\n",
       "  </tbody>\n",
       "</table>\n",
       "</div>"
      ],
      "text/plain": [
       "   #                   Name Type 1  Type 2  Total  HP  Attack  Defense  \\\n",
       "0  1              Bulbasaur  Grass  Poison    318  45      49       49   \n",
       "1  2                Ivysaur  Grass  Poison    405  60      62       63   \n",
       "2  3               Venusaur  Grass  Poison    525  80      82       83   \n",
       "3  3  VenusaurMega Venusaur  Grass  Poison    625  80     100      123   \n",
       "4  4             Charmander   Fire     NaN    309  39      52       43   \n",
       "\n",
       "   Sp. Atk  Sp. Def  Speed  Generation  Legendary  Gen Str  \n",
       "0       65       65     45           1      False        1  \n",
       "1       80       80     60           1      False        1  \n",
       "2      100      100     80           1      False        1  \n",
       "3      122      120     80           1      False        1  \n",
       "4       60       50     65           1      False        1  "
      ]
     },
     "execution_count": 39,
     "metadata": {},
     "output_type": "execute_result"
    }
   ],
   "source": [
    "df['Gen Str'] = df[str('Generation')]\n",
    "\n",
    "df.head(5)"
   ]
  },
  {
   "cell_type": "code",
   "execution_count": null,
   "id": "ba309e04",
   "metadata": {},
   "outputs": [],
   "source": [
    "## Conducting ANOVA analysis based on Generation -- Conclusion: fail to reject null hypothesis \n",
    "(difference of the Overall status between Generations are by chance)"
   ]
  },
  {
   "cell_type": "code",
   "execution_count": 41,
   "id": "80175e11",
   "metadata": {},
   "outputs": [
    {
     "name": "stdout",
     "output_type": "stream",
     "text": [
      "                  sum_sq     df         F    PR(>F)\n",
      "Generation  2.691818e+04    1.0  1.872513  0.171573\n",
      "Residual    1.147160e+07  798.0       NaN       NaN\n"
     ]
    }
   ],
   "source": [
    "model = ols('Total ~ Generation', data=df).fit()\n",
    "anova_table = sm.stats.anova_lm(model, typ=2)\n",
    "print(anova_table)"
   ]
  },
  {
   "cell_type": "code",
   "execution_count": 63,
   "id": "004e71a3",
   "metadata": {},
   "outputs": [
    {
     "data": {
      "text/plain": [
       "array(['Grass', 'Fire', 'Water', 'Bug', 'Normal', 'Poison', 'Electric',\n",
       "       'Ground', 'Fairy', 'Fighting', 'Psychic', 'Rock', 'Ghost', 'Ice',\n",
       "       'Dragon', 'Dark', 'Steel', 'Flying'], dtype=object)"
      ]
     },
     "execution_count": 63,
     "metadata": {},
     "output_type": "execute_result"
    }
   ],
   "source": [
    "df['Type 1'].unique()"
   ]
  },
  {
   "cell_type": "code",
   "execution_count": null,
   "id": "87bf0da3",
   "metadata": {},
   "outputs": [],
   "source": [
    "## Adding another column to clasify pokemon by typing (whether typing is singular or plural/dual)"
   ]
  },
  {
   "cell_type": "code",
   "execution_count": 68,
   "id": "2b503c3c",
   "metadata": {},
   "outputs": [],
   "source": [
    "df['DualType'] = np.where(df['Type 2'].isna(), 0, 1)"
   ]
  },
  {
   "cell_type": "code",
   "execution_count": 71,
   "id": "1ae6e56e",
   "metadata": {},
   "outputs": [
    {
     "data": {
      "text/html": [
       "<div>\n",
       "<style scoped>\n",
       "    .dataframe tbody tr th:only-of-type {\n",
       "        vertical-align: middle;\n",
       "    }\n",
       "\n",
       "    .dataframe tbody tr th {\n",
       "        vertical-align: top;\n",
       "    }\n",
       "\n",
       "    .dataframe thead th {\n",
       "        text-align: right;\n",
       "    }\n",
       "</style>\n",
       "<table border=\"1\" class=\"dataframe\">\n",
       "  <thead>\n",
       "    <tr style=\"text-align: right;\">\n",
       "      <th></th>\n",
       "      <th>#</th>\n",
       "      <th>Name</th>\n",
       "      <th>Type 1</th>\n",
       "      <th>Type 2</th>\n",
       "      <th>Total</th>\n",
       "      <th>HP</th>\n",
       "      <th>Attack</th>\n",
       "      <th>Defense</th>\n",
       "      <th>Sp. Atk</th>\n",
       "      <th>Sp. Def</th>\n",
       "      <th>Speed</th>\n",
       "      <th>Generation</th>\n",
       "      <th>Legendary</th>\n",
       "      <th>DualType</th>\n",
       "    </tr>\n",
       "  </thead>\n",
       "  <tbody>\n",
       "    <tr>\n",
       "      <th>0</th>\n",
       "      <td>1</td>\n",
       "      <td>Bulbasaur</td>\n",
       "      <td>Grass</td>\n",
       "      <td>Poison</td>\n",
       "      <td>318</td>\n",
       "      <td>45</td>\n",
       "      <td>49</td>\n",
       "      <td>49</td>\n",
       "      <td>65</td>\n",
       "      <td>65</td>\n",
       "      <td>45</td>\n",
       "      <td>1</td>\n",
       "      <td>False</td>\n",
       "      <td>1</td>\n",
       "    </tr>\n",
       "    <tr>\n",
       "      <th>1</th>\n",
       "      <td>2</td>\n",
       "      <td>Ivysaur</td>\n",
       "      <td>Grass</td>\n",
       "      <td>Poison</td>\n",
       "      <td>405</td>\n",
       "      <td>60</td>\n",
       "      <td>62</td>\n",
       "      <td>63</td>\n",
       "      <td>80</td>\n",
       "      <td>80</td>\n",
       "      <td>60</td>\n",
       "      <td>1</td>\n",
       "      <td>False</td>\n",
       "      <td>1</td>\n",
       "    </tr>\n",
       "    <tr>\n",
       "      <th>2</th>\n",
       "      <td>3</td>\n",
       "      <td>Venusaur</td>\n",
       "      <td>Grass</td>\n",
       "      <td>Poison</td>\n",
       "      <td>525</td>\n",
       "      <td>80</td>\n",
       "      <td>82</td>\n",
       "      <td>83</td>\n",
       "      <td>100</td>\n",
       "      <td>100</td>\n",
       "      <td>80</td>\n",
       "      <td>1</td>\n",
       "      <td>False</td>\n",
       "      <td>1</td>\n",
       "    </tr>\n",
       "    <tr>\n",
       "      <th>3</th>\n",
       "      <td>3</td>\n",
       "      <td>VenusaurMega Venusaur</td>\n",
       "      <td>Grass</td>\n",
       "      <td>Poison</td>\n",
       "      <td>625</td>\n",
       "      <td>80</td>\n",
       "      <td>100</td>\n",
       "      <td>123</td>\n",
       "      <td>122</td>\n",
       "      <td>120</td>\n",
       "      <td>80</td>\n",
       "      <td>1</td>\n",
       "      <td>False</td>\n",
       "      <td>1</td>\n",
       "    </tr>\n",
       "    <tr>\n",
       "      <th>6</th>\n",
       "      <td>6</td>\n",
       "      <td>Charizard</td>\n",
       "      <td>Fire</td>\n",
       "      <td>Flying</td>\n",
       "      <td>534</td>\n",
       "      <td>78</td>\n",
       "      <td>84</td>\n",
       "      <td>78</td>\n",
       "      <td>109</td>\n",
       "      <td>85</td>\n",
       "      <td>100</td>\n",
       "      <td>1</td>\n",
       "      <td>False</td>\n",
       "      <td>1</td>\n",
       "    </tr>\n",
       "    <tr>\n",
       "      <th>...</th>\n",
       "      <td>...</td>\n",
       "      <td>...</td>\n",
       "      <td>...</td>\n",
       "      <td>...</td>\n",
       "      <td>...</td>\n",
       "      <td>...</td>\n",
       "      <td>...</td>\n",
       "      <td>...</td>\n",
       "      <td>...</td>\n",
       "      <td>...</td>\n",
       "      <td>...</td>\n",
       "      <td>...</td>\n",
       "      <td>...</td>\n",
       "      <td>...</td>\n",
       "    </tr>\n",
       "    <tr>\n",
       "      <th>795</th>\n",
       "      <td>719</td>\n",
       "      <td>Diancie</td>\n",
       "      <td>Rock</td>\n",
       "      <td>Fairy</td>\n",
       "      <td>600</td>\n",
       "      <td>50</td>\n",
       "      <td>100</td>\n",
       "      <td>150</td>\n",
       "      <td>100</td>\n",
       "      <td>150</td>\n",
       "      <td>50</td>\n",
       "      <td>6</td>\n",
       "      <td>True</td>\n",
       "      <td>1</td>\n",
       "    </tr>\n",
       "    <tr>\n",
       "      <th>796</th>\n",
       "      <td>719</td>\n",
       "      <td>DiancieMega Diancie</td>\n",
       "      <td>Rock</td>\n",
       "      <td>Fairy</td>\n",
       "      <td>700</td>\n",
       "      <td>50</td>\n",
       "      <td>160</td>\n",
       "      <td>110</td>\n",
       "      <td>160</td>\n",
       "      <td>110</td>\n",
       "      <td>110</td>\n",
       "      <td>6</td>\n",
       "      <td>True</td>\n",
       "      <td>1</td>\n",
       "    </tr>\n",
       "    <tr>\n",
       "      <th>797</th>\n",
       "      <td>720</td>\n",
       "      <td>HoopaHoopa Confined</td>\n",
       "      <td>Psychic</td>\n",
       "      <td>Ghost</td>\n",
       "      <td>600</td>\n",
       "      <td>80</td>\n",
       "      <td>110</td>\n",
       "      <td>60</td>\n",
       "      <td>150</td>\n",
       "      <td>130</td>\n",
       "      <td>70</td>\n",
       "      <td>6</td>\n",
       "      <td>True</td>\n",
       "      <td>1</td>\n",
       "    </tr>\n",
       "    <tr>\n",
       "      <th>798</th>\n",
       "      <td>720</td>\n",
       "      <td>HoopaHoopa Unbound</td>\n",
       "      <td>Psychic</td>\n",
       "      <td>Dark</td>\n",
       "      <td>680</td>\n",
       "      <td>80</td>\n",
       "      <td>160</td>\n",
       "      <td>60</td>\n",
       "      <td>170</td>\n",
       "      <td>130</td>\n",
       "      <td>80</td>\n",
       "      <td>6</td>\n",
       "      <td>True</td>\n",
       "      <td>1</td>\n",
       "    </tr>\n",
       "    <tr>\n",
       "      <th>799</th>\n",
       "      <td>721</td>\n",
       "      <td>Volcanion</td>\n",
       "      <td>Fire</td>\n",
       "      <td>Water</td>\n",
       "      <td>600</td>\n",
       "      <td>80</td>\n",
       "      <td>110</td>\n",
       "      <td>120</td>\n",
       "      <td>130</td>\n",
       "      <td>90</td>\n",
       "      <td>70</td>\n",
       "      <td>6</td>\n",
       "      <td>True</td>\n",
       "      <td>1</td>\n",
       "    </tr>\n",
       "  </tbody>\n",
       "</table>\n",
       "<p>414 rows × 14 columns</p>\n",
       "</div>"
      ],
      "text/plain": [
       "       #                   Name   Type 1  Type 2  Total  HP  Attack  Defense  \\\n",
       "0      1              Bulbasaur    Grass  Poison    318  45      49       49   \n",
       "1      2                Ivysaur    Grass  Poison    405  60      62       63   \n",
       "2      3               Venusaur    Grass  Poison    525  80      82       83   \n",
       "3      3  VenusaurMega Venusaur    Grass  Poison    625  80     100      123   \n",
       "6      6              Charizard     Fire  Flying    534  78      84       78   \n",
       "..   ...                    ...      ...     ...    ...  ..     ...      ...   \n",
       "795  719                Diancie     Rock   Fairy    600  50     100      150   \n",
       "796  719    DiancieMega Diancie     Rock   Fairy    700  50     160      110   \n",
       "797  720    HoopaHoopa Confined  Psychic   Ghost    600  80     110       60   \n",
       "798  720     HoopaHoopa Unbound  Psychic    Dark    680  80     160       60   \n",
       "799  721              Volcanion     Fire   Water    600  80     110      120   \n",
       "\n",
       "     Sp. Atk  Sp. Def  Speed  Generation  Legendary  DualType  \n",
       "0         65       65     45           1      False         1  \n",
       "1         80       80     60           1      False         1  \n",
       "2        100      100     80           1      False         1  \n",
       "3        122      120     80           1      False         1  \n",
       "6        109       85    100           1      False         1  \n",
       "..       ...      ...    ...         ...        ...       ...  \n",
       "795      100      150     50           6       True         1  \n",
       "796      160      110    110           6       True         1  \n",
       "797      150      130     70           6       True         1  \n",
       "798      170      130     80           6       True         1  \n",
       "799      130       90     70           6       True         1  \n",
       "\n",
       "[414 rows x 14 columns]"
      ]
     },
     "execution_count": 71,
     "metadata": {},
     "output_type": "execute_result"
    }
   ],
   "source": [
    "df.loc[df['DualType'] == 1]"
   ]
  },
  {
   "cell_type": "code",
   "execution_count": null,
   "id": "4a2781c2",
   "metadata": {},
   "outputs": [],
   "source": [
    "#Creating boxplot to observe difference between group"
   ]
  },
  {
   "cell_type": "code",
   "execution_count": 75,
   "id": "61cd7300",
   "metadata": {},
   "outputs": [
    {
     "data": {
      "text/plain": [
       "<AxesSubplot:title={'center':'Total'}, xlabel='DualType'>"
      ]
     },
     "execution_count": 75,
     "metadata": {},
     "output_type": "execute_result"
    },
    {
     "data": {
      "image/png": "[encoded data removed]",
      "text/plain": [
       "<Figure size 432x288 with 1 Axes>"
      ]
     },
     "metadata": {
      "needs_background": "light"
     },
     "output_type": "display_data"
    }
   ],
   "source": [
    "df.boxplot('Total', by='DualType')"
   ]
  },
  {
   "cell_type": "code",
   "execution_count": 79,
   "id": "492b5094",
   "metadata": {},
   "outputs": [
    {
     "data": {
      "text/html": [
       "<div>\n",
       "<style scoped>\n",
       "    .dataframe tbody tr th:only-of-type {\n",
       "        vertical-align: middle;\n",
       "    }\n",
       "\n",
       "    .dataframe tbody tr th {\n",
       "        vertical-align: top;\n",
       "    }\n",
       "\n",
       "    .dataframe thead th {\n",
       "        text-align: right;\n",
       "    }\n",
       "</style>\n",
       "<table border=\"1\" class=\"dataframe\">\n",
       "  <thead>\n",
       "    <tr style=\"text-align: right;\">\n",
       "      <th></th>\n",
       "      <th>#</th>\n",
       "      <th>Total</th>\n",
       "      <th>HP</th>\n",
       "      <th>Attack</th>\n",
       "      <th>Defense</th>\n",
       "      <th>Sp. Atk</th>\n",
       "      <th>Sp. Def</th>\n",
       "      <th>Speed</th>\n",
       "      <th>Generation</th>\n",
       "      <th>Legendary</th>\n",
       "    </tr>\n",
       "    <tr>\n",
       "      <th>DualType</th>\n",
       "      <th></th>\n",
       "      <th></th>\n",
       "      <th></th>\n",
       "      <th></th>\n",
       "      <th></th>\n",
       "      <th></th>\n",
       "      <th></th>\n",
       "      <th></th>\n",
       "      <th></th>\n",
       "      <th></th>\n",
       "    </tr>\n",
       "  </thead>\n",
       "  <tbody>\n",
       "    <tr>\n",
       "      <th>0</th>\n",
       "      <td>348.064767</td>\n",
       "      <td>412.015544</td>\n",
       "      <td>67.766839</td>\n",
       "      <td>74.525907</td>\n",
       "      <td>67.585492</td>\n",
       "      <td>68.284974</td>\n",
       "      <td>67.974093</td>\n",
       "      <td>65.878238</td>\n",
       "      <td>3.230570</td>\n",
       "      <td>0.064767</td>\n",
       "    </tr>\n",
       "    <tr>\n",
       "      <th>1</th>\n",
       "      <td>376.565217</td>\n",
       "      <td>456.628019</td>\n",
       "      <td>70.649758</td>\n",
       "      <td>83.173913</td>\n",
       "      <td>79.676329</td>\n",
       "      <td>77.048309</td>\n",
       "      <td>75.565217</td>\n",
       "      <td>70.514493</td>\n",
       "      <td>3.410628</td>\n",
       "      <td>0.096618</td>\n",
       "    </tr>\n",
       "  </tbody>\n",
       "</table>\n",
       "</div>"
      ],
      "text/plain": [
       "                   #       Total         HP     Attack    Defense    Sp. Atk  \\\n",
       "DualType                                                                       \n",
       "0         348.064767  412.015544  67.766839  74.525907  67.585492  68.284974   \n",
       "1         376.565217  456.628019  70.649758  83.173913  79.676329  77.048309   \n",
       "\n",
       "            Sp. Def      Speed  Generation  Legendary  \n",
       "DualType                                               \n",
       "0         67.974093  65.878238    3.230570   0.064767  \n",
       "1         75.565217  70.514493    3.410628   0.096618  "
      ]
     },
     "execution_count": 79,
     "metadata": {},
     "output_type": "execute_result"
    }
   ],
   "source": [
    "df.groupby('DualType').mean()"
   ]
  },
  {
   "cell_type": "code",
   "execution_count": null,
   "id": "6866b2cd",
   "metadata": {},
   "outputs": [],
   "source": [
    "## Importing more libraries"
   ]
  },
  {
   "cell_type": "code",
   "execution_count": 82,
   "id": "e9e39f89",
   "metadata": {},
   "outputs": [],
   "source": [
    "from scipy import stats\n",
    "import matplotlib.pyplot as plt"
   ]
  },
  {
   "cell_type": "code",
   "execution_count": null,
   "id": "3d689a3a",
   "metadata": {},
   "outputs": [],
   "source": [
    "## Conducting levene type to assess homogeneity of variance"
   ]
  },
  {
   "cell_type": "code",
   "execution_count": 83,
   "id": "e9abd921",
   "metadata": {},
   "outputs": [
    {
     "data": {
      "text/plain": [
       "LeveneResult(statistic=0.06580684724450693, pvalue=0.7976089324555451)"
      ]
     },
     "execution_count": 83,
     "metadata": {},
     "output_type": "execute_result"
    }
   ],
   "source": [
    "stats.levene(SingleType['Total'], MultiType['Total'])"
   ]
  },
  {
   "cell_type": "code",
   "execution_count": null,
   "id": "51285a2c",
   "metadata": {},
   "outputs": [],
   "source": [
    "## Creating Q-Q Plot to assess the normality of data distribution"
   ]
  },
  {
   "cell_type": "code",
   "execution_count": 84,
   "id": "73d7b89f",
   "metadata": {},
   "outputs": [
    {
     "data": {
      "image/png": "[encoded data removed]",
      "text/plain": [
       "<Figure size 432x288 with 1 Axes>"
      ]
     },
     "metadata": {
      "needs_background": "light"
     },
     "output_type": "display_data"
    }
   ],
   "source": [
    "stats.probplot(SingleType['Total'], dist=\"norm\", plot= plt)\n",
    "plt.title(\"SingleType Total Q-Q Plot\")\n",
    "plt.savefig(\"SingleType_qqplot.png\")"
   ]
  },
  {
   "cell_type": "code",
   "execution_count": 85,
   "id": "d1a5e396",
   "metadata": {},
   "outputs": [
    {
     "data": {
      "image/png": "[encoded data removed]",
      "text/plain": [
       "<Figure size 432x288 with 1 Axes>"
      ]
     },
     "metadata": {
      "needs_background": "light"
     },
     "output_type": "display_data"
    }
   ],
   "source": [
    "stats.probplot(MultiType['Total'], dist=\"norm\", plot= plt)\n",
    "plt.title(\"MultiType Total Q-Q Plot\")\n",
    "plt.savefig(\"MultiType_qqplot.png\")"
   ]
  },
  {
   "cell_type": "code",
   "execution_count": null,
   "id": "3bdde76e",
   "metadata": {},
   "outputs": [],
   "source": [
    "## Further test for normality"
   ]
  },
  {
   "cell_type": "code",
   "execution_count": 86,
   "id": "42143d9b",
   "metadata": {},
   "outputs": [
    {
     "data": {
      "text/plain": [
       "ShapiroResult(statistic=0.9765270948410034, pvalue=6.597376795980381e-06)"
      ]
     },
     "execution_count": 86,
     "metadata": {},
     "output_type": "execute_result"
    }
   ],
   "source": [
    "stats.shapiro(SingleType['Total'])"
   ]
  },
  {
   "cell_type": "code",
   "execution_count": 87,
   "id": "b5f0f736",
   "metadata": {},
   "outputs": [
    {
     "data": {
      "text/plain": [
       "ShapiroResult(statistic=0.9838806986808777, pvalue=0.00014461860700976104)"
      ]
     },
     "execution_count": 87,
     "metadata": {},
     "output_type": "execute_result"
    }
   ],
   "source": [
    "stats.shapiro(MultiType['Total'])"
   ]
  },
  {
   "cell_type": "code",
   "execution_count": null,
   "id": "28be0752",
   "metadata": {},
   "outputs": [],
   "source": [
    "## Creating bar plot to see data distribution"
   ]
  },
  {
   "cell_type": "code",
   "execution_count": 88,
   "id": "801b8db4",
   "metadata": {},
   "outputs": [
    {
     "data": {
      "image/png": "[encoded data removed]",
      "text/plain": [
       "<Figure size 432x288 with 1 Axes>"
      ]
     },
     "metadata": {
      "needs_background": "light"
     },
     "output_type": "display_data"
    }
   ],
   "source": [
    "SingleType['Total'].plot(kind=\"hist\", title=\"SingleType Total\")\n",
    "plt.xlabel(\"Total\")\n",
    "plt.savefig('SingleType Total Hist')"
   ]
  },
  {
   "cell_type": "code",
   "execution_count": 89,
   "id": "aec6c53b",
   "metadata": {},
   "outputs": [
    {
     "data": {
      "image/png": "[encoded data removed]",
      "text/plain": [
       "<Figure size 432x288 with 1 Axes>"
      ]
     },
     "metadata": {
      "needs_background": "light"
     },
     "output_type": "display_data"
    }
   ],
   "source": [
    "MultiType['Total'].plot(kind=\"hist\", title=\"MultiType Total\")\n",
    "plt.xlabel(\"Total\")\n",
    "plt.savefig('MultiType Total Hist')"
   ]
  },
  {
   "cell_type": "code",
   "execution_count": 91,
   "id": "1fce9189",
   "metadata": {},
   "outputs": [],
   "source": [
    "# T-Test between Single Type and Multi Type"
   ]
  },
  {
   "cell_type": "code",
   "execution_count": 90,
   "id": "d3d65259",
   "metadata": {},
   "outputs": [
    {
     "data": {
      "text/plain": [
       "Ttest_indResult(statistic=-5.345970873144629, pvalue=1.1749035008828668e-07)"
      ]
     },
     "execution_count": 90,
     "metadata": {},
     "output_type": "execute_result"
    }
   ],
   "source": [
    "stats.ttest_ind(SingleType['Total'], MultiType['Total'])"
   ]
  }
 ],
 "metadata": {
  "kernelspec": {
   "display_name": "Python 3 (ipykernel)",
   "language": "python",
   "name": "python3"
  },
  "language_info": {
   "codemirror_mode": {
    "name": "ipython",
    "version": 3
   },
   "file_extension": ".py",
   "mimetype": "text/x-python",
   "name": "python",
   "nbconvert_exporter": "python",
   "pygments_lexer": "ipython3",
   "version": "3.9.7"
  }
 },
 "nbformat": 4,
 "nbformat_minor": 5
}
